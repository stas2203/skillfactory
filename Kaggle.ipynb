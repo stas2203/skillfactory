{
 "cells": [
  {
   "cell_type": "code",
   "execution_count": 3,
   "id": "b76548c9",
   "metadata": {},
   "outputs": [],
   "source": [
    "!pip install -q -U kaggle_environments"
   ]
  },
  {
   "cell_type": "code",
   "execution_count": 2,
   "id": "69fd0f1d",
   "metadata": {},
   "outputs": [],
   "source": [
    "from kaggle_environments import make, evaluate\n",
    "import numpy as np\n",
    "import pandas as pd\n",
    "import random\n",
    "import matplotlib.pyplot as plt\n",
    "import seaborn as sns"
   ]
  },
  {
   "cell_type": "markdown",
   "id": "dc87a40d",
   "metadata": {},
   "source": [
    "# Бот «Бумага»"
   ]
  },
  {
   "cell_type": "code",
   "execution_count": 12,
   "id": "d0a9b4fb",
   "metadata": {},
   "outputs": [
    {
     "name": "stdout",
     "output_type": "stream",
     "text": [
      "Overwriting bot_paper.py\n"
     ]
    }
   ],
   "source": [
    "%%writefile bot_paper.py\n",
    "import random\n",
    "def your_agent(obs, config):\n",
    "    return 0"
   ]
  },
  {
   "cell_type": "code",
   "execution_count": 10,
   "id": "642d7544",
   "metadata": {},
   "outputs": [
    {
     "data": {
      "text/plain": [
       "[[-98.0, 98.0]]"
      ]
     },
     "execution_count": 10,
     "metadata": {},
     "output_type": "execute_result"
    }
   ],
   "source": [
    "evaluate(\"rps\", [\"bot_paper.py\",  \"statistical\"], configuration={\"episodeSteps\": 100})"
   ]
  },
  {
   "cell_type": "markdown",
   "id": "ae28405a",
   "metadata": {},
   "source": [
    "# Бот «Камень»"
   ]
  },
  {
   "cell_type": "code",
   "execution_count": 14,
   "id": "15fbb97d",
   "metadata": {},
   "outputs": [
    {
     "name": "stdout",
     "output_type": "stream",
     "text": [
      "Overwriting bot_rock.py\n"
     ]
    }
   ],
   "source": [
    "%%writefile bot_rock.py\n",
    "import random\n",
    "def your_agent(obs, config):\n",
    "    return 1"
   ]
  },
  {
   "cell_type": "code",
   "execution_count": 15,
   "id": "55572b41",
   "metadata": {},
   "outputs": [
    {
     "data": {
      "text/plain": [
       "[[-97.0, 97.0]]"
      ]
     },
     "execution_count": 15,
     "metadata": {},
     "output_type": "execute_result"
    }
   ],
   "source": [
    "evaluate(\"rps\",[\"bot_rock.py\",  \"statistical\"], configuration={\"episodeSteps\": 100})"
   ]
  },
  {
   "cell_type": "markdown",
   "id": "47daa676",
   "metadata": {},
   "source": [
    "# Бот «Ножницы»"
   ]
  },
  {
   "cell_type": "code",
   "execution_count": 16,
   "id": "52be7630",
   "metadata": {},
   "outputs": [
    {
     "name": "stdout",
     "output_type": "stream",
     "text": [
      "Writing bot_noj.py\n"
     ]
    }
   ],
   "source": [
    "%%writefile bot_noj.py\n",
    "import random\n",
    "def your_agent(observation, configuration):\n",
    "    return 2"
   ]
  },
  {
   "cell_type": "code",
   "execution_count": 17,
   "id": "89b7e8b2",
   "metadata": {},
   "outputs": [
    {
     "data": {
      "text/plain": [
       "[[-99.0, 99.0]]"
      ]
     },
     "execution_count": 17,
     "metadata": {},
     "output_type": "execute_result"
    }
   ],
   "source": [
    "evaluate(\"rps\",[\"bot_noj.py\",  \"statistical\"],configuration={\"episodeSteps\": 100})"
   ]
  },
  {
   "cell_type": "markdown",
   "id": "99ebe712",
   "metadata": {},
   "source": [
    "# Кастомный бот"
   ]
  },
  {
   "cell_type": "code",
   "execution_count": 18,
   "id": "a14bc2d8",
   "metadata": {},
   "outputs": [
    {
     "name": "stdout",
     "output_type": "stream",
     "text": [
      "Writing bot_custom.py\n"
     ]
    }
   ],
   "source": [
    "%%writefile bot_custom.py\n",
    "import random\n",
    "def your_agent(obs, config):\n",
    "    return random.randrange(random.randrange(0,2), 3)"
   ]
  },
  {
   "cell_type": "code",
   "execution_count": 19,
   "id": "f8a142dd",
   "metadata": {},
   "outputs": [
    {
     "data": {
      "text/plain": [
       "[[0, 0]]"
      ]
     },
     "execution_count": 19,
     "metadata": {},
     "output_type": "execute_result"
    }
   ],
   "source": [
    "evaluate(\"rps\",[\"bot_custom.py\",  \"paper\"], configuration={\"episodeSteps\": 100})"
   ]
  },
  {
   "cell_type": "markdown",
   "id": "22fe41dc",
   "metadata": {},
   "source": [
    "# Бот оппонент"
   ]
  },
  {
   "cell_type": "code",
   "execution_count": 20,
   "id": "d4075787",
   "metadata": {},
   "outputs": [
    {
     "name": "stdout",
     "output_type": "stream",
     "text": [
      "Writing bot_oppon.py\n"
     ]
    }
   ],
   "source": [
    "%%writefile bot_oppon.py\n",
    "import random\n",
    "def your_agent(obs, config):\n",
    "    if obs.step > 0:\n",
    "        return [0,1,2][obs.lastOpponentAction-2]\n",
    "    else:\n",
    "         return random.randrange(0, config.signs)"
   ]
  },
  {
   "cell_type": "code",
   "execution_count": 21,
   "id": "65e11cf6",
   "metadata": {},
   "outputs": [
    {
     "data": {
      "text/plain": [
       "[[57.0, -57.0]]"
      ]
     },
     "execution_count": 21,
     "metadata": {},
     "output_type": "execute_result"
    }
   ],
   "source": [
    "evaluate(\"rps\",[\"bot_oppon.py\",  \"statistical\"], configuration={\"episodeSteps\": 100})"
   ]
  },
  {
   "cell_type": "markdown",
   "id": "377f3316",
   "metadata": {},
   "source": [
    "# Бот неслучайный"
   ]
  },
  {
   "cell_type": "code",
   "execution_count": 22,
   "id": "6376d962",
   "metadata": {},
   "outputs": [
    {
     "data": {
      "text/plain": [
       "2"
      ]
     },
     "execution_count": 22,
     "metadata": {},
     "output_type": "execute_result"
    }
   ],
   "source": [
    "numbers = [0,1,2]\n",
    "numbers.remove(random.choice(numbers))\n",
    "random.choice(numbers)"
   ]
  },
  {
   "cell_type": "code",
   "execution_count": 23,
   "id": "a97d99ef",
   "metadata": {},
   "outputs": [
    {
     "name": "stdout",
     "output_type": "stream",
     "text": [
      "Writing not_casion.py\n"
     ]
    }
   ],
   "source": [
    "%%writefile not_casion.py\n",
    "import random\n",
    "def your_agent(obs, config):\n",
    "    if obs.step > 0:\n",
    "        move = [0,1,2]\n",
    "        move.remove(obs.lastOpponentAction)\n",
    "        return random.choice(move)\n",
    "    else:\n",
    "         return random.randrange(0, config.signs)"
   ]
  },
  {
   "cell_type": "code",
   "execution_count": 24,
   "id": "394db487",
   "metadata": {},
   "outputs": [
    {
     "data": {
      "text/plain": [
       "[[23.0, -23.0]]"
      ]
     },
     "execution_count": 24,
     "metadata": {},
     "output_type": "execute_result"
    }
   ],
   "source": [
    "evaluate(\"rps\",[\"not_casion.py\",  \"statistical\"],configuration={\"episodeSteps\": 100})"
   ]
  },
  {
   "cell_type": "markdown",
   "id": "83cdabe4",
   "metadata": {},
   "source": [
    "# Рандомные боты (шаг != num%2==0)"
   ]
  },
  {
   "cell_type": "code",
   "execution_count": 33,
   "id": "d09d1e53",
   "metadata": {},
   "outputs": [
    {
     "name": "stdout",
     "output_type": "stream",
     "text": [
      "Overwriting paper_2.py\n"
     ]
    }
   ],
   "source": [
    "%%writefile paper_2.py\n",
    "import random\n",
    "def your_agent(obs, config):\n",
    "    if not obs.step%2: return 1\n",
    "    else: \n",
    "        return random.choice([0, 2])"
   ]
  },
  {
   "cell_type": "code",
   "execution_count": 35,
   "id": "2b295211",
   "metadata": {},
   "outputs": [
    {
     "data": {
      "text/plain": [
       "[[-25.0, 25.0]]"
      ]
     },
     "execution_count": 35,
     "metadata": {},
     "output_type": "execute_result"
    }
   ],
   "source": [
    "evaluate(\"rps\",[\"paper_2.py\",  \"statistical\"],configuration={\"episodeSteps\": 100})"
   ]
  },
  {
   "cell_type": "code",
   "execution_count": 27,
   "id": "7f4a3c90",
   "metadata": {},
   "outputs": [
    {
     "name": "stdout",
     "output_type": "stream",
     "text": [
      "Writing rock_2.py\n"
     ]
    }
   ],
   "source": [
    "%%writefile rock_2.py\n",
    "import random\n",
    "def your_agent(obs, config):\n",
    "    if not obs.step%2: return 0\n",
    "    else: \n",
    "        return random.choice([1, 2])"
   ]
  },
  {
   "cell_type": "code",
   "execution_count": 28,
   "id": "fdb849af",
   "metadata": {},
   "outputs": [
    {
     "data": {
      "text/plain": [
       "[[-24.0, 24.0]]"
      ]
     },
     "execution_count": 28,
     "metadata": {},
     "output_type": "execute_result"
    }
   ],
   "source": [
    "evaluate(\"rps\",[\"rock_2.py\",  \"statistical\"],configuration={\"episodeSteps\": 100})"
   ]
  },
  {
   "cell_type": "code",
   "execution_count": 29,
   "id": "af4428f7",
   "metadata": {},
   "outputs": [
    {
     "name": "stdout",
     "output_type": "stream",
     "text": [
      "Writing noj_2.py\n"
     ]
    }
   ],
   "source": [
    "%%writefile noj_2.py\n",
    "import random\n",
    "def your_agent(obs, config):\n",
    "    if not obs.step%2: return 2\n",
    "    else: \n",
    "        return random.choice([0, 1])"
   ]
  },
  {
   "cell_type": "code",
   "execution_count": 24,
   "id": "6d6d2a26",
   "metadata": {},
   "outputs": [
    {
     "data": {
      "text/plain": [
       "[[-29.0, 29.0]]"
      ]
     },
     "execution_count": 24,
     "metadata": {},
     "output_type": "execute_result"
    }
   ],
   "source": [
    "evaluate(\n",
    "    \"rps\",[\"noj_2.py\",  \"statistical\"],configuration={\"episodeSteps\": 100})"
   ]
  },
  {
   "cell_type": "markdown",
   "id": "4bbf1d81",
   "metadata": {},
   "source": [
    "# Рандомные боты (шаг = num%2==0)"
   ]
  },
  {
   "cell_type": "code",
   "execution_count": 36,
   "id": "0d567ea5",
   "metadata": {},
   "outputs": [
    {
     "name": "stdout",
     "output_type": "stream",
     "text": [
      "Writing random_1_1.py\n"
     ]
    }
   ],
   "source": [
    "%%writefile random_1_1.py\n",
    "import random\n",
    "def your_agent(obs, config):\n",
    "    if obs.step > 0:\n",
    "        if not obs.step%2: \n",
    "            return obs.lastOpponentAction      \n",
    "        else:\n",
    "            return [0,1,2][obs.lastOpponentAction-2]\n",
    "    else:\n",
    "         return random.randrange(0, config.signs)\n"
   ]
  },
  {
   "cell_type": "code",
   "execution_count": 37,
   "id": "d90870be",
   "metadata": {},
   "outputs": [
    {
     "data": {
      "text/plain": [
       "[[0, 0]]"
      ]
     },
     "execution_count": 37,
     "metadata": {},
     "output_type": "execute_result"
    }
   ],
   "source": [
    "evaluate(\"rps\",[\"random_1_1.py\",  \"statistical\"],configuration={\"episodeSteps\": 100})"
   ]
  },
  {
   "cell_type": "code",
   "execution_count": 38,
   "id": "9b27c3bc",
   "metadata": {},
   "outputs": [
    {
     "name": "stdout",
     "output_type": "stream",
     "text": [
      "Writing random_1_2.py\n"
     ]
    }
   ],
   "source": [
    "%%writefile random_1_2.py\n",
    "import random\n",
    "def your_agent(obs, config):\n",
    "    if obs.step > 0:\n",
    "        if not obs.step%2: \n",
    "            return obs.lastOpponentAction      \n",
    "        else:\n",
    "            return [0,1,2][obs.lastOpponentAction-2]\n",
    "    else:\n",
    "         return random.randrange(0, config.signs)"
   ]
  },
  {
   "cell_type": "code",
   "execution_count": 39,
   "id": "77b3ac13",
   "metadata": {},
   "outputs": [
    {
     "data": {
      "text/plain": [
       "[[96.0, -96.0]]"
      ]
     },
     "execution_count": 39,
     "metadata": {},
     "output_type": "execute_result"
    }
   ],
   "source": [
    "evaluate(\"rps\",[\"random_1_2.py\",  \"statistical\"],configuration={\"episodeSteps\": 100})"
   ]
  },
  {
   "cell_type": "markdown",
   "id": "8cc8dd4c",
   "metadata": {},
   "source": [
    "# Бот НЕ по четности шага"
   ]
  },
  {
   "cell_type": "code",
   "execution_count": 40,
   "id": "7b75abc3",
   "metadata": {},
   "outputs": [
    {
     "name": "stdout",
     "output_type": "stream",
     "text": [
      "Writing not_random_1.py\n"
     ]
    }
   ],
   "source": [
    "%%writefile not_random_1.py\n",
    "import random\n",
    "def your_agent(obs, config):\n",
    "    if obs.step > 0:\n",
    "        if not obs.step%2:\n",
    "          for_action = [0,1,2]\n",
    "          for_action.remove(obs.lastOpponentAction)\n",
    "          return random.choice(for_action)  \n",
    "        else:\n",
    "            return [0,1,2][obs.lastOpponentAction-2]\n",
    "    else:\n",
    "         return random.randrange(0, config.signs)"
   ]
  },
  {
   "cell_type": "code",
   "execution_count": 41,
   "id": "48c82fa1",
   "metadata": {},
   "outputs": [
    {
     "data": {
      "text/plain": [
       "[[39.0, -39.0]]"
      ]
     },
     "execution_count": 41,
     "metadata": {},
     "output_type": "execute_result"
    }
   ],
   "source": [
    "evaluate(\"rps\",[\"not_random_1.py\",  \"statistical\"],configuration={\"episodeSteps\": 100})"
   ]
  },
  {
   "cell_type": "markdown",
   "id": "8d98f4b7",
   "metadata": {},
   "source": [
    "# Бот, запоминающий выбор"
   ]
  },
  {
   "cell_type": "code",
   "execution_count": 42,
   "id": "fa496eab",
   "metadata": {},
   "outputs": [
    {
     "name": "stdout",
     "output_type": "stream",
     "text": [
      "Writing bot_mind.py\n"
     ]
    }
   ],
   "source": [
    "%%writefile bot_mind.py\n",
    "import random\n",
    "mem_opponent = {}\n",
    "def your_agent(obs, config):\n",
    "    global mem_opponent\n",
    "    if obs.step > 0:\n",
    "        mem_opponent[obs.lastOpponentAction] = mem_opponent.get(obs.lastOpponentAction, 0)+1\n",
    "        friq_step_opponent = sorted(mem_opponent, key=mem_opponent.get, reverse=True)[0]\n",
    "        return [0,1,2][friq_step_opponent-2]\n",
    "    else:\n",
    "         return random.randrange(0, config.signs)"
   ]
  },
  {
   "cell_type": "code",
   "execution_count": 43,
   "id": "fb2bd3e1",
   "metadata": {},
   "outputs": [
    {
     "data": {
      "text/plain": [
       "[[0, 0]]"
      ]
     },
     "execution_count": 43,
     "metadata": {},
     "output_type": "execute_result"
    }
   ],
   "source": [
    "evaluate(\"rps\",[\"bot_mind.py\",  \"statistical\"],configuration={\"episodeSteps\": 100})"
   ]
  },
  {
   "cell_type": "markdown",
   "id": "6d81d095",
   "metadata": {},
   "source": [
    "# Анти-бот, запоминающий выбор"
   ]
  },
  {
   "cell_type": "code",
   "execution_count": 44,
   "id": "82248ef4",
   "metadata": {},
   "outputs": [
    {
     "name": "stdout",
     "output_type": "stream",
     "text": [
      "Writing bot_mind_2.py\n"
     ]
    }
   ],
   "source": [
    "%%writefile bot_mind_2.py\n",
    "import random\n",
    "mem_opponent = {}\n",
    "def your_agent(obs, config):\n",
    "    global mem_opponent\n",
    "    if obs.step > 0:\n",
    "        mem_opponent[obs.lastOpponentAction] = mem_opponent.get(obs.lastOpponentAction, 0)+1\n",
    "        friq_step_opponent_sorted = sorted(mem_opponent, key=mem_opponent.get)\n",
    "        prob_step_sorted = [mem_opponent[key]/obs.step for key in friq_step_opponent_sorted]\n",
    "        bias = random.random()\n",
    "        for i, prob in enumerate(prob_step_sorted):\n",
    "          if prob > bias: break\n",
    "        return [0,1,2][friq_step_opponent_sorted[i]-2]\n",
    "    else:\n",
    "         return random.randrange(0, config.signs)"
   ]
  },
  {
   "cell_type": "markdown",
   "id": "32b6b28c",
   "metadata": {},
   "source": [
    "# Турнир"
   ]
  },
  {
   "cell_type": "markdown",
   "id": "a9586e63",
   "metadata": {},
   "source": [
    "Организован вариативный турнир между участниками разбиение на случайные пары - если четное количество и четное к-во пар или груговой турнир определяется на кадом этапе"
   ]
  },
  {
   "cell_type": "code",
   "execution_count": 45,
   "id": "280be6de",
   "metadata": {},
   "outputs": [],
   "source": [
    "def get_pairs(lst, n): # разделяем список на n элементов\n",
    "    for i in range(0, len(lst), n):\n",
    "        yield lst[i:i + n]\n",
    "\n",
    "def round_tournirs(voriers): # запускаем круговой тур\n",
    "    qty_voriers = len(voriers)\n",
    "    scores = [0 for _ in range(qty_voriers)]\n",
    "    for x in range(qty_voriers):\n",
    "      for y in range(x+1, qty_voriers):\n",
    "        for z in range(PERIODS):\n",
    "            res = evaluate(\"rps\", [voriers[x], voriers[y]],configuration={'episodeSteps': 50,'tieRewardThreshold':1})[0]\n",
    "            if not period: results.append(res)\n",
    "            else:\n",
    "              scores[voriers.index(voriers[x])]+= res[0]\n",
    "              scores[voriers.index(voriers[y])]+= res[1]\n",
    "    sort_scores = sorted(scores)          \n",
    "    voriers = [voriers[scores.index(score)] for score in sort_scores]\n",
    "    return voriers[qty_voriers//2:]"
   ]
  },
  {
   "cell_type": "code",
   "execution_count": 51,
   "id": "801f8449",
   "metadata": {},
   "outputs": [
    {
     "name": "stdout",
     "output_type": "stream",
     "text": [
      "Выбираем пары рандомно\n",
      "WAIT...\n",
      "Кол-во пар 10\n",
      "Победители круга 1\n",
      "bot_mind.py\n",
      "copy_opponent\n",
      "bot_mind_2.py\n",
      "counter_reactionary\n",
      "rock_2.py\n",
      "reactionary\n",
      "paper\n",
      "not_random_1.py\n",
      "noj_2.py\n",
      "bot_custom.py\n",
      "\n",
      "Нечетное кол-во ботов, новый турнир:\n",
      "WAIT.../n/n\n",
      "Победители круга 2\n",
      "bot_mind.py\n",
      "copy_opponent\n",
      "noj_2.py\n",
      "bot_mind_2.py\n",
      "rock_2.py\n",
      "\n",
      "Нечетное кол-во ботов, новый турнир:\n",
      "WAIT... /n/n\n",
      "Победители круга 3\n",
      "rock_2.py\n",
      "bot_mind_2.py\n",
      "bot_mind.py\n",
      "\n",
      "Нечетное кол-во ботов, новый турнир:\n",
      "WAIT... /n/n\n",
      "Победители круга 4\n",
      "bot_mind_2.py\n",
      "bot_mind.py\n",
      "\n",
      "Нечетное кол-во ботов, новый турнир:\n",
      "WAIT.../n/n\n",
      "Победители круга 5\n",
      "bot_mind_2.py\n",
      "\n",
      "Winner: bot_mind_2.py\n"
     ]
    }
   ],
   "source": [
    "voriers = ['rock',\n",
    "           'paper',\n",
    "           'scissors',\n",
    "           'copy_opponent',\n",
    "           'reactionary',\n",
    "           'counter_reactionary',\n",
    "           'bot_paper.py', # 1\n",
    "           'bot_rock.py', # 2\n",
    "           'bot_noj.py', # 3\n",
    "           'bot_custom.py', # 4\n",
    "           'bot_oppon.py', # 5\n",
    "           'not_casion.py', # 6\n",
    "           'paper_2.py', # 7\n",
    "           'rock_2.py', # 8\n",
    "           'noj_2.py', # 9\n",
    "           'random_1_1.py', # 10\n",
    "           'random_1_2.py', # 11\n",
    "           'not_random_1.py', # 12\n",
    "           'bot_mind.py', # 13\n",
    "           'bot_mind_2.py' # 14\n",
    "]\n",
    "\n",
    "PERIODS = 6 # задаем периоды парных игр\n",
    "random.shuffle(voriers) # рандомозируем участников\n",
    "qty_voriers = len(voriers)\n",
    "PLAY = True\n",
    "step = 1\n",
    "\n",
    "while PLAY:\n",
    "    if qty_voriers%2:\n",
    "      print('Нечетное кол-во ботов, новый турнир:')\n",
    "      print('WAIT... /n')\n",
    "      voriers = round_tournirs(voriers) # выбираем победителя\n",
    "\n",
    "    else:\n",
    "        pairs = qty_voriers//2\n",
    "        if not pairs%2:\n",
    "            print('Выбираем пары рандомно')\n",
    "            print('WAIT...')\n",
    "            groups = list(get_pairs(voriers, 2))\n",
    "            print(f'Кол-во пар {len(groups)}')\n",
    "            results = []\n",
    "            for period in range(PERIODS):\n",
    "              for i, pair in enumerate(groups):\n",
    "                res = evaluate(\"rps\",pair,configuration={'episodeSteps': 100,'tieRewardThreshold':1})[0]\n",
    "                if not period: results.append(res)\n",
    "                else:\n",
    "                  results[i][0]+=res[0]\n",
    "                  results[i][1]+=res[1]\n",
    "              voriers = []\n",
    "              for result, pair in zip(results, groups):\n",
    "                  if result[0]>result[1]: voriers.append(pair[0])\n",
    "                  elif result[0]<result[1]: voriers.append(pair[1])\n",
    "                  else: voriers.extend(pair)\n",
    "\n",
    "        else:\n",
    "          print('Нечетное кол-во ботов, новый турнир:')\n",
    "          print('WAIT.../n')\n",
    "          voriers = round_tournirs(voriers)\n",
    "\n",
    "    print(f'Победители круга {step}')\n",
    "    for vorier in voriers:\n",
    "      print(vorier)\n",
    "    print()\n",
    "    random.shuffle(voriers)\n",
    "    step+=1\n",
    "\n",
    "    qty_voriers = len(voriers)\n",
    "    if qty_voriers<2:\n",
    "      print(f'Winner: {voriers[0]}')\n",
    "      PLAY = False"
   ]
  },
  {
   "cell_type": "code",
   "execution_count": null,
   "id": "84de6487",
   "metadata": {},
   "outputs": [],
   "source": []
  }
 ],
 "metadata": {
  "kernelspec": {
   "display_name": "Python 3 (ipykernel)",
   "language": "python",
   "name": "python3"
  },
  "language_info": {
   "codemirror_mode": {
    "name": "ipython",
    "version": 3
   },
   "file_extension": ".py",
   "mimetype": "text/x-python",
   "name": "python",
   "nbconvert_exporter": "python",
   "pygments_lexer": "ipython3",
   "version": "3.9.12"
  }
 },
 "nbformat": 4,
 "nbformat_minor": 5
}
