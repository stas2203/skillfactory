{
 "cells": [
  {
   "cell_type": "code",
   "execution_count": 171,
   "id": "02768dfb",
   "metadata": {},
   "outputs": [],
   "source": [
    "import pandas as pd\n",
    "import seaborn as sns\n",
    "import time\n",
    "import matplotlib as mpl\n",
    "import matplotlib.pyplot as plt\n",
    "%matplotlib inline"
   ]
  },
  {
   "cell_type": "markdown",
   "id": "8ed472c2",
   "metadata": {},
   "source": [
    "# Импортируем файлы"
   ]
  },
  {
   "cell_type": "markdown",
   "id": "e9fbc004",
   "metadata": {},
   "source": [
    "## Файл train"
   ]
  },
  {
   "cell_type": "code",
   "execution_count": 2,
   "id": "6eede5ed",
   "metadata": {},
   "outputs": [],
   "source": [
    "train = pd.read_csv('Data/train.csv') # импортируем файл"
   ]
  },
  {
   "cell_type": "markdown",
   "id": "2c8f0311",
   "metadata": {},
   "source": [
    "Датафрейм содержит 101230332 строк, 9 столбцов. Одие столбец с типом float, один — object, восемь — int.\n",
    "\n",
    "Чтобы далее комфортнее работать с данными в рамках учебного задания, возьмем из датафрейма 200 000 строк."
   ]
  },
  {
   "cell_type": "code",
   "execution_count": 3,
   "id": "f54e7880",
   "metadata": {},
   "outputs": [],
   "source": [
    "train = train.head(200000) # сохраняем в DF 200 000 строк для дальнейшей обработки"
   ]
  },
  {
   "cell_type": "markdown",
   "id": "cf3f4a37",
   "metadata": {},
   "source": [
    "### Описание столбцов"
   ]
  },
  {
   "cell_type": "markdown",
   "id": "51c98d4b",
   "metadata": {},
   "source": [
    "- row_id: (int64) — ID строки.\n",
    "- timestamp: (int64) — Время в милисекундах между началом сессии и завершением.\n",
    "- user_id: (int32) — ID пользователя.\n",
    "- content_id: (int16) — ID вопроса.\n",
    "- content_type_id: (int8) — 0 — вопрос; 1 — просмотр лекции.\n",
    "- task_container_id: (int16) — ID блока вопросов или лекции (может включать в себя несколько content_id).\n",
    "- user_answer: (int8) ответ пользователя на вопрос, если таковой имеется. Считайте -1 как null, для лекций.\n",
    "- answered_correctly: (int8) — ответ пользователя на вопрос, -1 - пустое значение для лекций.\n",
    "- prior_question_elapsed_time: (float32) — среднее время в милисекундах, затраченное пользователем на ответы на предыдущий блок вопросов. Для первого значения — 0.\n",
    "- prior_question_had_explanation: (bool)— видел ли пользователь правильный ответ и объяснение на предыдущий блок вопросов (лекции в промежутке игнорируются). Для первого значения — 0. Обычно первые вопросы, которые видит пользователь - тест, на который не дается обратная связь."
   ]
  },
  {
   "cell_type": "markdown",
   "id": "7b2c0f62",
   "metadata": {},
   "source": [
    "## Файл questions"
   ]
  },
  {
   "cell_type": "markdown",
   "id": "63d6b7a8",
   "metadata": {},
   "source": [
    "МЕТАДАННЫЕ ДЛЯ ВОПРОСОВ, ЗАДАВАЕМЫХ ПОЛЬЗОВАТЕЛЯМ"
   ]
  },
  {
   "cell_type": "code",
   "execution_count": 4,
   "id": "02c421c9",
   "metadata": {},
   "outputs": [],
   "source": [
    "questions = pd.read_csv('Data/questions.csv') # импортируем файл"
   ]
  },
  {
   "cell_type": "markdown",
   "id": "132a7404",
   "metadata": {},
   "source": [
    "### Описание столбцов"
   ]
  },
  {
   "cell_type": "markdown",
   "id": "af0671e4",
   "metadata": {},
   "source": [
    "- question_id: внешний ключ для столбца train/test content_id, когда тип содержимого - вопрос (0).\n",
    "- bundle_id: код, для которого вопросы подаются вместе.\n",
    "- correct_answer: ответ на этот вопрос. Можно сравнить со столбцом train user_answer, чтобы проверить, был ли пользователь прав.\n",
    "- part: соответствующий раздел теста TOEIC.\n",
    "- tags: один или несколько подробных кодов тегов для вопроса. Значение тегов предоставлено не будет, но этих кодов достаточно для объединения вопросов воедино."
   ]
  },
  {
   "cell_type": "markdown",
   "id": "7949fdfb",
   "metadata": {},
   "source": [
    "## Файл lectures"
   ]
  },
  {
   "cell_type": "markdown",
   "id": "88f5a9b1",
   "metadata": {},
   "source": [
    "МЕТАДАННЫЕ ДЛЯ ЛЕКЦИЙ, КОТОРЫЕ ПРОСМАТРИВАЮТ ПОЛЬЗОВАТЕЛИ ПО МЕРЕ ПРОДВИЖЕНИЯ В СВОЕМ ОБРАЗОВАНИИ"
   ]
  },
  {
   "cell_type": "code",
   "execution_count": 5,
   "id": "64f54ce0",
   "metadata": {},
   "outputs": [],
   "source": [
    "lectures = pd.read_csv('Data/lectures.csv') # импортируем файл"
   ]
  },
  {
   "cell_type": "markdown",
   "id": "9839a37d",
   "metadata": {},
   "source": [
    "### Описание столбцов"
   ]
  },
  {
   "cell_type": "markdown",
   "id": "332272ce",
   "metadata": {},
   "source": [
    "- lecture_id: внешний ключ для столбца train/test content_id, когда тип содержимого - лекция (1).\n",
    "- part: код категории верхнего уровня для лекции.\n",
    "- tag: один тег кодирует лекцию. Значение тегов не будет предоставлено, но этих кодов достаточно для объединения лекций воедино.\n",
    "- type_of: краткое описание основной цели лекции."
   ]
  },
  {
   "cell_type": "markdown",
   "id": "0e258148",
   "metadata": {},
   "source": [
    "# Проверим достоверность и полноту данных"
   ]
  },
  {
   "cell_type": "markdown",
   "id": "78d82ff5",
   "metadata": {},
   "source": [
    "## Файл train"
   ]
  },
  {
   "cell_type": "code",
   "execution_count": 6,
   "id": "fa94d7dc",
   "metadata": {
    "scrolled": true
   },
   "outputs": [
    {
     "name": "stdout",
     "output_type": "stream",
     "text": [
      "<class 'pandas.core.frame.DataFrame'>\n",
      "RangeIndex: 200000 entries, 0 to 199999\n",
      "Data columns (total 10 columns):\n",
      " #   Column                          Non-Null Count   Dtype  \n",
      "---  ------                          --------------   -----  \n",
      " 0   row_id                          200000 non-null  int64  \n",
      " 1   timestamp                       200000 non-null  int64  \n",
      " 2   user_id                         200000 non-null  int64  \n",
      " 3   content_id                      200000 non-null  int64  \n",
      " 4   content_type_id                 200000 non-null  int64  \n",
      " 5   task_container_id               200000 non-null  int64  \n",
      " 6   user_answer                     200000 non-null  int64  \n",
      " 7   answered_correctly              200000 non-null  int64  \n",
      " 8   prior_question_elapsed_time     195566 non-null  float64\n",
      " 9   prior_question_had_explanation  199282 non-null  object \n",
      "dtypes: float64(1), int64(8), object(1)\n",
      "memory usage: 15.3+ MB\n"
     ]
    }
   ],
   "source": [
    "train.info()"
   ]
  },
  {
   "cell_type": "code",
   "execution_count": 7,
   "id": "8032982f",
   "metadata": {},
   "outputs": [
    {
     "data": {
      "text/plain": [
       "False    200000\n",
       "Name: answered_correctly, dtype: int64"
      ]
     },
     "execution_count": 7,
     "metadata": {},
     "output_type": "execute_result"
    }
   ],
   "source": [
    "train['timestamp'].isna().value_counts() # этот столбец заполнен без пропусков\n",
    "train['user_id'].isna().value_counts() # этот столбец заполнен без пропусков\n",
    "train['content_id'].isna().value_counts() # этот столбец заполнен без пропусков\n",
    "train['content_type_id'].isna().value_counts() # этот столбец заполнен без пропусков\n",
    "train['user_answer'].isna().value_counts() # этот столбец заполнен без пропусков\n",
    "train['answered_correctly'].isna().value_counts() # этот столбец заполнен без пропусков"
   ]
  },
  {
   "cell_type": "code",
   "execution_count": 8,
   "id": "1807cb87",
   "metadata": {
    "scrolled": true
   },
   "outputs": [
    {
     "data": {
      "text/plain": [
       "False    195566\n",
       "True       4434\n",
       "Name: prior_question_elapsed_time, dtype: int64"
      ]
     },
     "execution_count": 8,
     "metadata": {},
     "output_type": "execute_result"
    }
   ],
   "source": [
    "train['prior_question_elapsed_time'].isna().value_counts() # этот столбец имеет 4434 незаполненных значений"
   ]
  },
  {
   "cell_type": "code",
   "execution_count": 9,
   "id": "c58418da",
   "metadata": {},
   "outputs": [
    {
     "data": {
      "text/plain": [
       "False    199282\n",
       "True        718\n",
       "Name: prior_question_had_explanation, dtype: int64"
      ]
     },
     "execution_count": 9,
     "metadata": {},
     "output_type": "execute_result"
    }
   ],
   "source": [
    "train['prior_question_had_explanation'].isna().value_counts() # этот столбец имеет 718 незаполненных значений"
   ]
  },
  {
   "cell_type": "code",
   "execution_count": null,
   "id": "52c56691",
   "metadata": {},
   "outputs": [],
   "source": []
  },
  {
   "cell_type": "markdown",
   "id": "28827416",
   "metadata": {},
   "source": [
    "## Файл questions"
   ]
  },
  {
   "cell_type": "code",
   "execution_count": 10,
   "id": "7a1f4cbe",
   "metadata": {
    "scrolled": true
   },
   "outputs": [
    {
     "name": "stdout",
     "output_type": "stream",
     "text": [
      "<class 'pandas.core.frame.DataFrame'>\n",
      "RangeIndex: 13523 entries, 0 to 13522\n",
      "Data columns (total 5 columns):\n",
      " #   Column          Non-Null Count  Dtype \n",
      "---  ------          --------------  ----- \n",
      " 0   question_id     13523 non-null  int64 \n",
      " 1   bundle_id       13523 non-null  int64 \n",
      " 2   correct_answer  13523 non-null  int64 \n",
      " 3   part            13523 non-null  int64 \n",
      " 4   tags            13522 non-null  object\n",
      "dtypes: int64(4), object(1)\n",
      "memory usage: 528.4+ KB\n"
     ]
    }
   ],
   "source": [
    "questions.info()"
   ]
  },
  {
   "cell_type": "code",
   "execution_count": 11,
   "id": "3560dfac",
   "metadata": {
    "scrolled": true
   },
   "outputs": [
    {
     "data": {
      "text/plain": [
       "False    13523\n",
       "Name: part, dtype: int64"
      ]
     },
     "execution_count": 11,
     "metadata": {},
     "output_type": "execute_result"
    }
   ],
   "source": [
    "questions['question_id'].isna().value_counts() # этот столбец заполнен без пропусков\n",
    "questions['bundle_id'].isna().value_counts() # этот столбец заполнен без пропусков\n",
    "questions['correct_answer'].isna().value_counts() # этот столбец заполнен без пропусков\n",
    "questions['part'].isna().value_counts() # этот столбец заполнен без пропусков"
   ]
  },
  {
   "cell_type": "code",
   "execution_count": 12,
   "id": "b17ae13b",
   "metadata": {},
   "outputs": [
    {
     "data": {
      "text/plain": [
       "False    13522\n",
       "True         1\n",
       "Name: tags, dtype: int64"
      ]
     },
     "execution_count": 12,
     "metadata": {},
     "output_type": "execute_result"
    }
   ],
   "source": [
    "questions['tags'].isna().value_counts() # этот столбец имеет 1 пропуск"
   ]
  },
  {
   "cell_type": "code",
   "execution_count": 13,
   "id": "519d1c1c",
   "metadata": {},
   "outputs": [
    {
     "data": {
      "text/html": [
       "<div>\n",
       "<style scoped>\n",
       "    .dataframe tbody tr th:only-of-type {\n",
       "        vertical-align: middle;\n",
       "    }\n",
       "\n",
       "    .dataframe tbody tr th {\n",
       "        vertical-align: top;\n",
       "    }\n",
       "\n",
       "    .dataframe thead th {\n",
       "        text-align: right;\n",
       "    }\n",
       "</style>\n",
       "<table border=\"1\" class=\"dataframe\">\n",
       "  <thead>\n",
       "    <tr style=\"text-align: right;\">\n",
       "      <th></th>\n",
       "      <th>question_id</th>\n",
       "      <th>bundle_id</th>\n",
       "      <th>correct_answer</th>\n",
       "      <th>part</th>\n",
       "      <th>tags</th>\n",
       "    </tr>\n",
       "  </thead>\n",
       "  <tbody>\n",
       "    <tr>\n",
       "      <th>0</th>\n",
       "      <td>0</td>\n",
       "      <td>0</td>\n",
       "      <td>0</td>\n",
       "      <td>1</td>\n",
       "      <td>51 131 162 38</td>\n",
       "    </tr>\n",
       "    <tr>\n",
       "      <th>1</th>\n",
       "      <td>1</td>\n",
       "      <td>1</td>\n",
       "      <td>1</td>\n",
       "      <td>1</td>\n",
       "      <td>131 36 81</td>\n",
       "    </tr>\n",
       "    <tr>\n",
       "      <th>2</th>\n",
       "      <td>2</td>\n",
       "      <td>2</td>\n",
       "      <td>0</td>\n",
       "      <td>1</td>\n",
       "      <td>131 101 162 92</td>\n",
       "    </tr>\n",
       "    <tr>\n",
       "      <th>3</th>\n",
       "      <td>3</td>\n",
       "      <td>3</td>\n",
       "      <td>0</td>\n",
       "      <td>1</td>\n",
       "      <td>131 149 162 29</td>\n",
       "    </tr>\n",
       "    <tr>\n",
       "      <th>4</th>\n",
       "      <td>4</td>\n",
       "      <td>4</td>\n",
       "      <td>3</td>\n",
       "      <td>1</td>\n",
       "      <td>131 5 162 38</td>\n",
       "    </tr>\n",
       "    <tr>\n",
       "      <th>...</th>\n",
       "      <td>...</td>\n",
       "      <td>...</td>\n",
       "      <td>...</td>\n",
       "      <td>...</td>\n",
       "      <td>...</td>\n",
       "    </tr>\n",
       "    <tr>\n",
       "      <th>13518</th>\n",
       "      <td>13518</td>\n",
       "      <td>13518</td>\n",
       "      <td>3</td>\n",
       "      <td>5</td>\n",
       "      <td>14</td>\n",
       "    </tr>\n",
       "    <tr>\n",
       "      <th>13519</th>\n",
       "      <td>13519</td>\n",
       "      <td>13519</td>\n",
       "      <td>3</td>\n",
       "      <td>5</td>\n",
       "      <td>8</td>\n",
       "    </tr>\n",
       "    <tr>\n",
       "      <th>13520</th>\n",
       "      <td>13520</td>\n",
       "      <td>13520</td>\n",
       "      <td>2</td>\n",
       "      <td>5</td>\n",
       "      <td>73</td>\n",
       "    </tr>\n",
       "    <tr>\n",
       "      <th>13521</th>\n",
       "      <td>13521</td>\n",
       "      <td>13521</td>\n",
       "      <td>0</td>\n",
       "      <td>5</td>\n",
       "      <td>125</td>\n",
       "    </tr>\n",
       "    <tr>\n",
       "      <th>13522</th>\n",
       "      <td>13522</td>\n",
       "      <td>13522</td>\n",
       "      <td>3</td>\n",
       "      <td>5</td>\n",
       "      <td>55</td>\n",
       "    </tr>\n",
       "  </tbody>\n",
       "</table>\n",
       "<p>13523 rows × 5 columns</p>\n",
       "</div>"
      ],
      "text/plain": [
       "       question_id  bundle_id  correct_answer  part            tags\n",
       "0                0          0               0     1   51 131 162 38\n",
       "1                1          1               1     1       131 36 81\n",
       "2                2          2               0     1  131 101 162 92\n",
       "3                3          3               0     1  131 149 162 29\n",
       "4                4          4               3     1    131 5 162 38\n",
       "...            ...        ...             ...   ...             ...\n",
       "13518        13518      13518               3     5              14\n",
       "13519        13519      13519               3     5               8\n",
       "13520        13520      13520               2     5              73\n",
       "13521        13521      13521               0     5             125\n",
       "13522        13522      13522               3     5              55\n",
       "\n",
       "[13523 rows x 5 columns]"
      ]
     },
     "execution_count": 13,
     "metadata": {},
     "output_type": "execute_result"
    }
   ],
   "source": [
    "questions"
   ]
  },
  {
   "cell_type": "markdown",
   "id": "a2e0f43c",
   "metadata": {},
   "source": [
    "## Файл lectures"
   ]
  },
  {
   "cell_type": "code",
   "execution_count": 14,
   "id": "815f1905",
   "metadata": {},
   "outputs": [
    {
     "name": "stdout",
     "output_type": "stream",
     "text": [
      "<class 'pandas.core.frame.DataFrame'>\n",
      "RangeIndex: 418 entries, 0 to 417\n",
      "Data columns (total 4 columns):\n",
      " #   Column      Non-Null Count  Dtype \n",
      "---  ------      --------------  ----- \n",
      " 0   lecture_id  418 non-null    int64 \n",
      " 1   tag         418 non-null    int64 \n",
      " 2   part        418 non-null    int64 \n",
      " 3   type_of     418 non-null    object\n",
      "dtypes: int64(3), object(1)\n",
      "memory usage: 13.2+ KB\n"
     ]
    }
   ],
   "source": [
    "lectures.info()"
   ]
  },
  {
   "cell_type": "code",
   "execution_count": 247,
   "id": "e9f8a3b3",
   "metadata": {
    "scrolled": true
   },
   "outputs": [],
   "source": [
    "questions['lecture_id'].isna().value_counts() # этот столбец заполнен без пропусков\n",
    "questions['tag'].isna().value_counts() # этот столбец заполнен без пропусков\n",
    "questions['part'].isna().value_counts() # этот столбец заполнен без пропусков\n",
    "questions['type_of'].isna().value_counts() # этот столбец заполнен без пропусков"
   ]
  },
  {
   "cell_type": "code",
   "execution_count": null,
   "id": "3a29bee2",
   "metadata": {},
   "outputs": [],
   "source": []
  },
  {
   "cell_type": "markdown",
   "id": "9597df2f",
   "metadata": {},
   "source": [
    "# Постановка задачи исследования"
   ]
  },
  {
   "cell_type": "markdown",
   "id": "4a0c0581",
   "metadata": {},
   "source": [
    "На основе предоставленных данных можно провести следующие исследования:\n",
    "- по какому количеству студентов есть данные в датафрейме\n",
    "- сколько в средем времени тратит студент на иузчение материалов\n",
    "- есть ли зависимосимость между тем, сколько тратится времени на подготовку и тем, насколько хорошо отвечают пользователи, а также насколько высокую оценку получают\n",
    "- есть ли зависимость между затраченным временем на подготовку и тем, насколько быстро пользователи отвечают на вопросы\n",
    "   "
   ]
  },
  {
   "cell_type": "markdown",
   "id": "93c43717",
   "metadata": {},
   "source": [
    "# Подготовка данных"
   ]
  },
  {
   "cell_type": "markdown",
   "id": "e1811f4c",
   "metadata": {},
   "source": [
    "## Файл train"
   ]
  },
  {
   "cell_type": "code",
   "execution_count": 16,
   "id": "7a7f0d45",
   "metadata": {},
   "outputs": [],
   "source": [
    "train_copy = train.copy() # создаем копию датафрейма, чтобы дальше вносить изменения только в копию"
   ]
  },
  {
   "cell_type": "code",
   "execution_count": 17,
   "id": "1c88cf58",
   "metadata": {
    "scrolled": false
   },
   "outputs": [],
   "source": [
    "train_copy = train_copy.drop(['row_id'], axis=1) # Удалим строку row_id, так как она дублирует метки."
   ]
  },
  {
   "cell_type": "code",
   "execution_count": 18,
   "id": "c80160b9",
   "metadata": {},
   "outputs": [],
   "source": [
    "students_success = train_copy[['timestamp',\n",
    "                               'user_id','content_id','answered_correctly',\n",
    "                               'prior_question_elapsed_time']]\n",
    "\n",
    "# cоберем отдельный датафрейм students_success, по которому будем изучать зависимость"
   ]
  },
  {
   "cell_type": "code",
   "execution_count": 19,
   "id": "0edf3f25",
   "metadata": {},
   "outputs": [
    {
     "data": {
      "text/html": [
       "<div>\n",
       "<style scoped>\n",
       "    .dataframe tbody tr th:only-of-type {\n",
       "        vertical-align: middle;\n",
       "    }\n",
       "\n",
       "    .dataframe tbody tr th {\n",
       "        vertical-align: top;\n",
       "    }\n",
       "\n",
       "    .dataframe thead th {\n",
       "        text-align: right;\n",
       "    }\n",
       "</style>\n",
       "<table border=\"1\" class=\"dataframe\">\n",
       "  <thead>\n",
       "    <tr style=\"text-align: right;\">\n",
       "      <th></th>\n",
       "      <th>timestamp</th>\n",
       "      <th>user_id</th>\n",
       "      <th>content_id</th>\n",
       "      <th>answered_correctly</th>\n",
       "      <th>prior_question_elapsed_time</th>\n",
       "    </tr>\n",
       "  </thead>\n",
       "  <tbody>\n",
       "    <tr>\n",
       "      <th>0</th>\n",
       "      <td>0</td>\n",
       "      <td>115</td>\n",
       "      <td>5692</td>\n",
       "      <td>1</td>\n",
       "      <td>NaN</td>\n",
       "    </tr>\n",
       "    <tr>\n",
       "      <th>1</th>\n",
       "      <td>56943</td>\n",
       "      <td>115</td>\n",
       "      <td>5716</td>\n",
       "      <td>1</td>\n",
       "      <td>37000.0</td>\n",
       "    </tr>\n",
       "    <tr>\n",
       "      <th>2</th>\n",
       "      <td>118363</td>\n",
       "      <td>115</td>\n",
       "      <td>128</td>\n",
       "      <td>1</td>\n",
       "      <td>55000.0</td>\n",
       "    </tr>\n",
       "    <tr>\n",
       "      <th>3</th>\n",
       "      <td>131167</td>\n",
       "      <td>115</td>\n",
       "      <td>7860</td>\n",
       "      <td>1</td>\n",
       "      <td>19000.0</td>\n",
       "    </tr>\n",
       "    <tr>\n",
       "      <th>4</th>\n",
       "      <td>137965</td>\n",
       "      <td>115</td>\n",
       "      <td>7922</td>\n",
       "      <td>1</td>\n",
       "      <td>11000.0</td>\n",
       "    </tr>\n",
       "    <tr>\n",
       "      <th>...</th>\n",
       "      <td>...</td>\n",
       "      <td>...</td>\n",
       "      <td>...</td>\n",
       "      <td>...</td>\n",
       "      <td>...</td>\n",
       "    </tr>\n",
       "    <tr>\n",
       "      <th>199995</th>\n",
       "      <td>161267737</td>\n",
       "      <td>4022163</td>\n",
       "      <td>9059</td>\n",
       "      <td>1</td>\n",
       "      <td>15000.0</td>\n",
       "    </tr>\n",
       "    <tr>\n",
       "      <th>199996</th>\n",
       "      <td>161381846</td>\n",
       "      <td>4022163</td>\n",
       "      <td>4058</td>\n",
       "      <td>1</td>\n",
       "      <td>37000.0</td>\n",
       "    </tr>\n",
       "    <tr>\n",
       "      <th>199997</th>\n",
       "      <td>161452468</td>\n",
       "      <td>4022163</td>\n",
       "      <td>8722</td>\n",
       "      <td>0</td>\n",
       "      <td>28000.0</td>\n",
       "    </tr>\n",
       "    <tr>\n",
       "      <th>199998</th>\n",
       "      <td>161548577</td>\n",
       "      <td>4022163</td>\n",
       "      <td>3926</td>\n",
       "      <td>0</td>\n",
       "      <td>25000.0</td>\n",
       "    </tr>\n",
       "    <tr>\n",
       "      <th>199999</th>\n",
       "      <td>161649362</td>\n",
       "      <td>4022163</td>\n",
       "      <td>4664</td>\n",
       "      <td>1</td>\n",
       "      <td>38000.0</td>\n",
       "    </tr>\n",
       "  </tbody>\n",
       "</table>\n",
       "<p>200000 rows × 5 columns</p>\n",
       "</div>"
      ],
      "text/plain": [
       "        timestamp  user_id  content_id  answered_correctly  \\\n",
       "0               0      115        5692                   1   \n",
       "1           56943      115        5716                   1   \n",
       "2          118363      115         128                   1   \n",
       "3          131167      115        7860                   1   \n",
       "4          137965      115        7922                   1   \n",
       "...           ...      ...         ...                 ...   \n",
       "199995  161267737  4022163        9059                   1   \n",
       "199996  161381846  4022163        4058                   1   \n",
       "199997  161452468  4022163        8722                   0   \n",
       "199998  161548577  4022163        3926                   0   \n",
       "199999  161649362  4022163        4664                   1   \n",
       "\n",
       "        prior_question_elapsed_time  \n",
       "0                               NaN  \n",
       "1                           37000.0  \n",
       "2                           55000.0  \n",
       "3                           19000.0  \n",
       "4                           11000.0  \n",
       "...                             ...  \n",
       "199995                      15000.0  \n",
       "199996                      37000.0  \n",
       "199997                      28000.0  \n",
       "199998                      25000.0  \n",
       "199999                      38000.0  \n",
       "\n",
       "[200000 rows x 5 columns]"
      ]
     },
     "execution_count": 19,
     "metadata": {},
     "output_type": "execute_result"
    }
   ],
   "source": [
    "students_success"
   ]
  },
  {
   "cell_type": "markdown",
   "id": "f3b413c3",
   "metadata": {},
   "source": [
    "# 1. Исследуем датафрейм train"
   ]
  },
  {
   "cell_type": "code",
   "execution_count": 20,
   "id": "ac78e229",
   "metadata": {},
   "outputs": [
    {
     "data": {
      "text/plain": [
       "719"
      ]
     },
     "execution_count": 20,
     "metadata": {},
     "output_type": "execute_result"
    }
   ],
   "source": [
    "# Всего студентов в датафрейме для исследования — 716\n",
    "\n",
    "students_success.user_id.nunique()"
   ]
  },
  {
   "cell_type": "code",
   "execution_count": 253,
   "id": "051fca83",
   "metadata": {},
   "outputs": [],
   "source": [
    "points = students_success.groupby('user_id').agg({'answered_correctly': 'sum'}) \\\n",
    ".sort_values('answered_correctly', ascending=False) # баллы, которые набрали студенты"
   ]
  },
  {
   "cell_type": "code",
   "execution_count": 31,
   "id": "535ef2f7",
   "metadata": {
    "scrolled": false
   },
   "outputs": [
    {
     "data": {
      "text/plain": [
       "<seaborn.axisgrid.PairGrid at 0x7faa1067b340>"
      ]
     },
     "execution_count": 31,
     "metadata": {},
     "output_type": "execute_result"
    },
    {
     "data": {
      "image/png": "[encoded data removed]",
      "text/plain": [
       "<Figure size 1152x720 with 2 Axes>"
      ]
     },
     "metadata": {
      "needs_background": "light"
     },
     "output_type": "display_data"
    }
   ],
   "source": [
    "sns.pairplot(data=points,height=10, aspect=1.6) \n",
    "# на графике видим, что распределение данных очень сильно смещено влево\n",
    "# это значит, что можно выделить группы студентов по успеваемости по квартилям"
   ]
  },
  {
   "cell_type": "code",
   "execution_count": 127,
   "id": "7214d68b",
   "metadata": {},
   "outputs": [
    {
     "data": {
      "text/plain": [
       "199115872.0"
      ]
     },
     "execution_count": 127,
     "metadata": {},
     "output_type": "execute_result"
    }
   ],
   "source": [
    "students_success.query('user_id==1283420').prior_question_elapsed_time.sum()"
   ]
  },
  {
   "cell_type": "code",
   "execution_count": 168,
   "id": "6287117c",
   "metadata": {
    "scrolled": false
   },
   "outputs": [
    {
     "data": {
      "text/plain": [
       "<seaborn.axisgrid.PairGrid at 0x7faa12233eb0>"
      ]
     },
     "execution_count": 168,
     "metadata": {},
     "output_type": "execute_result"
    },
    {
     "data": {
      "image/png": "[encoded data removed]",
      "text/plain": [
       "<Figure size 1152x720 with 2 Axes>"
      ]
     },
     "metadata": {
      "needs_background": "light"
     },
     "output_type": "display_data"
    }
   ],
   "source": [
    "sns.pairplot(data=time_spend,height=10, aspect=1.6) # распределение студентов "
   ]
  },
  {
   "cell_type": "code",
   "execution_count": 245,
   "id": "45baa4f3",
   "metadata": {
    "scrolled": true
   },
   "outputs": [
    {
     "data": {
      "text/plain": [
       "<AxesSubplot:xlabel='answered_correctly', ylabel='prior_question_elapsed_time'>"
      ]
     },
     "execution_count": 245,
     "metadata": {},
     "output_type": "execute_result"
    },
    {
     "data": {
      "image/png": "[encoded data removed]",
      "text/plain": [
       "<Figure size 432x288 with 1 Axes>"
      ]
     },
     "metadata": {
      "needs_background": "light"
     },
     "output_type": "display_data"
    }
   ],
   "source": [
    "view = points.merge(time_spend, how='inner')\n",
    "sns.scatterplot(data=view, x=\"answered_correctly\", y=\"prior_question_elapsed_time\")\n",
    "\n",
    "# cтроим график зависимости затрат времени на подготовку и количество полученных баллов\n",
    "# как видим по графику, коэфф. корреляции близкий к 1"
   ]
  },
  {
   "cell_type": "code",
   "execution_count": 211,
   "id": "48711ebd",
   "metadata": {},
   "outputs": [],
   "source": [
    "time_spend = students_success.groupby('user_id').agg({'prior_question_elapsed_time': 'sum'}) \\\n",
    ".sort_values('prior_question_elapsed_time', ascending=False)\n",
    "# время, которое студенты потратили на подготовку в миллисекундах"
   ]
  },
  {
   "cell_type": "code",
   "execution_count": 205,
   "id": "1b0c3b04",
   "metadata": {},
   "outputs": [],
   "source": [
    "def time_to_days (args):\n",
    "    return args / 60000"
   ]
  },
  {
   "cell_type": "code",
   "execution_count": 267,
   "id": "8180725a",
   "metadata": {
    "scrolled": true
   },
   "outputs": [],
   "source": [
    "time_spend['prior_question_elapsed_time'] = time_spend['prior_question_elapsed_time'].apply(time_to_days) \n",
    "# переводим миллисекунды в минуты"
   ]
  },
  {
   "cell_type": "code",
   "execution_count": 255,
   "id": "e2611bd2",
   "metadata": {},
   "outputs": [],
   "source": [
    "points['user'] = points.index\n",
    "time_spend['user'] = time_spend.index"
   ]
  },
  {
   "cell_type": "code",
   "execution_count": 262,
   "id": "9161c09d",
   "metadata": {},
   "outputs": [],
   "source": [
    "points['user'] = points['user'].astype('object')\n",
    "time_spend['user'] = time_spend['user'].astype('object')"
   ]
  },
  {
   "cell_type": "code",
   "execution_count": 264,
   "id": "830aefd4",
   "metadata": {
    "scrolled": true
   },
   "outputs": [
    {
     "data": {
      "text/html": [
       "<div>\n",
       "<style scoped>\n",
       "    .dataframe tbody tr th:only-of-type {\n",
       "        vertical-align: middle;\n",
       "    }\n",
       "\n",
       "    .dataframe tbody tr th {\n",
       "        vertical-align: top;\n",
       "    }\n",
       "\n",
       "    .dataframe thead th {\n",
       "        text-align: right;\n",
       "    }\n",
       "</style>\n",
       "<table border=\"1\" class=\"dataframe\">\n",
       "  <thead>\n",
       "    <tr style=\"text-align: right;\">\n",
       "      <th></th>\n",
       "      <th>answered_correctly</th>\n",
       "    </tr>\n",
       "  </thead>\n",
       "  <tbody>\n",
       "    <tr>\n",
       "      <th>count</th>\n",
       "      <td>719.000000</td>\n",
       "    </tr>\n",
       "    <tr>\n",
       "      <th>mean</th>\n",
       "      <td>179.881780</td>\n",
       "    </tr>\n",
       "    <tr>\n",
       "      <th>std</th>\n",
       "      <td>536.473966</td>\n",
       "    </tr>\n",
       "    <tr>\n",
       "      <th>min</th>\n",
       "      <td>0.000000</td>\n",
       "    </tr>\n",
       "    <tr>\n",
       "      <th>25%</th>\n",
       "      <td>12.000000</td>\n",
       "    </tr>\n",
       "    <tr>\n",
       "      <th>50%</th>\n",
       "      <td>25.000000</td>\n",
       "    </tr>\n",
       "    <tr>\n",
       "      <th>75%</th>\n",
       "      <td>97.000000</td>\n",
       "    </tr>\n",
       "    <tr>\n",
       "      <th>max</th>\n",
       "      <td>6103.000000</td>\n",
       "    </tr>\n",
       "  </tbody>\n",
       "</table>\n",
       "</div>"
      ],
      "text/plain": [
       "       answered_correctly\n",
       "count          719.000000\n",
       "mean           179.881780\n",
       "std            536.473966\n",
       "min              0.000000\n",
       "25%             12.000000\n",
       "50%             25.000000\n",
       "75%             97.000000\n",
       "max           6103.000000"
      ]
     },
     "execution_count": 264,
     "metadata": {},
     "output_type": "execute_result"
    }
   ],
   "source": [
    "points.describe()"
   ]
  },
  {
   "cell_type": "code",
   "execution_count": 269,
   "id": "84d7c790",
   "metadata": {},
   "outputs": [
    {
     "data": {
      "text/html": [
       "<div>\n",
       "<style scoped>\n",
       "    .dataframe tbody tr th:only-of-type {\n",
       "        vertical-align: middle;\n",
       "    }\n",
       "\n",
       "    .dataframe tbody tr th {\n",
       "        vertical-align: top;\n",
       "    }\n",
       "\n",
       "    .dataframe thead th {\n",
       "        text-align: right;\n",
       "    }\n",
       "</style>\n",
       "<table border=\"1\" class=\"dataframe\">\n",
       "  <thead>\n",
       "    <tr style=\"text-align: right;\">\n",
       "      <th></th>\n",
       "      <th>prior_question_elapsed_time</th>\n",
       "    </tr>\n",
       "  </thead>\n",
       "  <tbody>\n",
       "    <tr>\n",
       "      <th>count</th>\n",
       "      <td>719.000000</td>\n",
       "    </tr>\n",
       "    <tr>\n",
       "      <th>mean</th>\n",
       "      <td>114.720339</td>\n",
       "    </tr>\n",
       "    <tr>\n",
       "      <th>std</th>\n",
       "      <td>324.272697</td>\n",
       "    </tr>\n",
       "    <tr>\n",
       "      <th>min</th>\n",
       "      <td>0.000000</td>\n",
       "    </tr>\n",
       "    <tr>\n",
       "      <th>25%</th>\n",
       "      <td>9.525000</td>\n",
       "    </tr>\n",
       "    <tr>\n",
       "      <th>50%</th>\n",
       "      <td>16.883333</td>\n",
       "    </tr>\n",
       "    <tr>\n",
       "      <th>75%</th>\n",
       "      <td>69.391667</td>\n",
       "    </tr>\n",
       "    <tr>\n",
       "      <th>max</th>\n",
       "      <td>3318.597867</td>\n",
       "    </tr>\n",
       "  </tbody>\n",
       "</table>\n",
       "</div>"
      ],
      "text/plain": [
       "       prior_question_elapsed_time\n",
       "count                   719.000000\n",
       "mean                    114.720339\n",
       "std                     324.272697\n",
       "min                       0.000000\n",
       "25%                       9.525000\n",
       "50%                      16.883333\n",
       "75%                      69.391667\n",
       "max                    3318.597867"
      ]
     },
     "execution_count": 269,
     "metadata": {},
     "output_type": "execute_result"
    }
   ],
   "source": [
    "time_spend.describe()"
   ]
  },
  {
   "cell_type": "code",
   "execution_count": 36,
   "id": "ce857ad7",
   "metadata": {},
   "outputs": [],
   "source": [
    "points_group_4 = points.query('answered_correctly <= 12') # 204 студента с успеваемостью в первом квартиле\n",
    "points_group_3 = points.query('12 < answered_correctly <= 25') # 163 студента с успеваемостью в первом квартиле\n",
    "points_group_2 = points.query('25 < answered_correctly <= 97') # 174 студента с успеваемостью в первом квартиле\n",
    "points_group_1 = points.query('answered_correctly > 97') # 178 студента с успеваемостью в первом квартиле\n",
    "\n",
    "# далее исследуем первую и четвертые группы, чтобы понял, \n",
    "# почему в первом квартиле у студентов такие высокие показатели успеваемости"
   ]
  },
  {
   "cell_type": "code",
   "execution_count": 270,
   "id": "ee2d5fb7",
   "metadata": {},
   "outputs": [],
   "source": [
    "time_spend_group_4 = time_spend.query('prior_question_elapsed_time <= 9.5') # 180 студентов с затратами времени на подготовку в первом квартиле\n",
    "time_spend_group_3 = time_spend.query('9.5 < prior_question_elapsed_time <= 16.8') # 178 студентов с затратами времени на подготовку в первом квартиле\n",
    "time_spend_group_2 = time_spend.query('16.8 < prior_question_elapsed_time <= 69.3') # 180 студентов с затратами времени на подготовку в первом квартиле\n",
    "time_spend_group_1 = time_spend.query('prior_question_elapsed_time > 69.3') # 181 студент с затратами времени на подготовку в первом квартиле"
   ]
  },
  {
   "cell_type": "code",
   "execution_count": 285,
   "id": "eed938b2",
   "metadata": {},
   "outputs": [
    {
     "data": {
      "text/plain": [
       "<AxesSubplot:xlabel='answered_correctly', ylabel='prior_question_elapsed_time'>"
      ]
     },
     "execution_count": 285,
     "metadata": {},
     "output_type": "execute_result"
    },
    {
     "data": {
      "image/png": "[encoded data removed]",
      "text/plain": [
       "<Figure size 432x288 with 1 Axes>"
      ]
     },
     "metadata": {
      "needs_background": "light"
     },
     "output_type": "display_data"
    }
   ],
   "source": [
    "view_group_1 = points_group_1.merge(time_spend_group_1)\n",
    "sns.scatterplot(data=view_group_1, x=\"answered_correctly\", y=\"prior_question_elapsed_time\")\n",
    "\n",
    "# перепроверка корреляции на основе группы студентов 1"
   ]
  },
  {
   "cell_type": "markdown",
   "id": "dcf2cf57",
   "metadata": {},
   "source": [
    "Основыне выводы:\n",
    "- среди оценок и времени подготовки студентов очень большой разброс\n",
    "- для выделения отдельных групп использовал группировку по квартилям\n",
    "- есть прямая зависимость между затраченным временем на подготовку и успегностью сдачи экзаменов\n",
    "- можно сделать предположение, что программа подготовки отвечает требованиям подготовки к экзаменам"
   ]
  },
  {
   "cell_type": "markdown",
   "id": "44f549dd",
   "metadata": {},
   "source": [
    "# 2. Исследуем датафрейм lectures"
   ]
  },
  {
   "cell_type": "code",
   "execution_count": 287,
   "id": "cb458a2c",
   "metadata": {},
   "outputs": [
    {
     "data": {
      "text/plain": [
       "418"
      ]
     },
     "execution_count": 287,
     "metadata": {},
     "output_type": "execute_result"
    }
   ],
   "source": [
    "lectures.lecture_id.nunique()\n",
    "\n",
    "# всего доступно 418 лекций"
   ]
  },
  {
   "cell_type": "code",
   "execution_count": 289,
   "id": "39b70996",
   "metadata": {},
   "outputs": [
    {
     "data": {
      "text/plain": [
       "136    7\n",
       "27     6\n",
       "161    6\n",
       "74     6\n",
       "134    6\n",
       "Name: tag, dtype: int64"
      ]
     },
     "execution_count": 289,
     "metadata": {},
     "output_type": "execute_result"
    }
   ],
   "source": [
    "lectures['part'].value_counts(normalize=True)\n",
    "lectures['type_of'].value_counts(normalize=True)\n",
    "lectures['tag'].value_counts().head()"
   ]
  },
  {
   "cell_type": "code",
   "execution_count": 290,
   "id": "e6a2022c",
   "metadata": {},
   "outputs": [
    {
     "data": {
      "text/html": [
       "<div>\n",
       "<style scoped>\n",
       "    .dataframe tbody tr th:only-of-type {\n",
       "        vertical-align: middle;\n",
       "    }\n",
       "\n",
       "    .dataframe tbody tr th {\n",
       "        vertical-align: top;\n",
       "    }\n",
       "\n",
       "    .dataframe thead th {\n",
       "        text-align: right;\n",
       "    }\n",
       "</style>\n",
       "<table border=\"1\" class=\"dataframe\">\n",
       "  <thead>\n",
       "    <tr style=\"text-align: right;\">\n",
       "      <th></th>\n",
       "      <th>lecture_id</th>\n",
       "      <th>tag</th>\n",
       "      <th>part</th>\n",
       "      <th>type_of</th>\n",
       "      <th>l_quant</th>\n",
       "    </tr>\n",
       "  </thead>\n",
       "  <tbody>\n",
       "    <tr>\n",
       "      <th>0</th>\n",
       "      <td>89</td>\n",
       "      <td>159</td>\n",
       "      <td>5</td>\n",
       "      <td>concept</td>\n",
       "      <td>48</td>\n",
       "    </tr>\n",
       "    <tr>\n",
       "      <th>1</th>\n",
       "      <td>100</td>\n",
       "      <td>70</td>\n",
       "      <td>1</td>\n",
       "      <td>concept</td>\n",
       "      <td>34</td>\n",
       "    </tr>\n",
       "    <tr>\n",
       "      <th>2</th>\n",
       "      <td>192</td>\n",
       "      <td>79</td>\n",
       "      <td>5</td>\n",
       "      <td>solving question</td>\n",
       "      <td>25</td>\n",
       "    </tr>\n",
       "    <tr>\n",
       "      <th>3</th>\n",
       "      <td>317</td>\n",
       "      <td>156</td>\n",
       "      <td>5</td>\n",
       "      <td>solving question</td>\n",
       "      <td>15</td>\n",
       "    </tr>\n",
       "    <tr>\n",
       "      <th>4</th>\n",
       "      <td>335</td>\n",
       "      <td>114</td>\n",
       "      <td>2</td>\n",
       "      <td>concept</td>\n",
       "      <td>121</td>\n",
       "    </tr>\n",
       "    <tr>\n",
       "      <th>...</th>\n",
       "      <td>...</td>\n",
       "      <td>...</td>\n",
       "      <td>...</td>\n",
       "      <td>...</td>\n",
       "      <td>...</td>\n",
       "    </tr>\n",
       "    <tr>\n",
       "      <th>338</th>\n",
       "      <td>32491</td>\n",
       "      <td>179</td>\n",
       "      <td>5</td>\n",
       "      <td>solving question</td>\n",
       "      <td>5</td>\n",
       "    </tr>\n",
       "    <tr>\n",
       "      <th>339</th>\n",
       "      <td>32535</td>\n",
       "      <td>8</td>\n",
       "      <td>5</td>\n",
       "      <td>solving question</td>\n",
       "      <td>9</td>\n",
       "    </tr>\n",
       "    <tr>\n",
       "      <th>340</th>\n",
       "      <td>32570</td>\n",
       "      <td>113</td>\n",
       "      <td>3</td>\n",
       "      <td>solving question</td>\n",
       "      <td>8</td>\n",
       "    </tr>\n",
       "    <tr>\n",
       "      <th>341</th>\n",
       "      <td>32625</td>\n",
       "      <td>142</td>\n",
       "      <td>2</td>\n",
       "      <td>concept</td>\n",
       "      <td>16</td>\n",
       "    </tr>\n",
       "    <tr>\n",
       "      <th>342</th>\n",
       "      <td>32736</td>\n",
       "      <td>82</td>\n",
       "      <td>3</td>\n",
       "      <td>concept</td>\n",
       "      <td>21</td>\n",
       "    </tr>\n",
       "  </tbody>\n",
       "</table>\n",
       "<p>343 rows × 5 columns</p>\n",
       "</div>"
      ],
      "text/plain": [
       "     lecture_id  tag  part           type_of  l_quant\n",
       "0            89  159     5           concept       48\n",
       "1           100   70     1           concept       34\n",
       "2           192   79     5  solving question       25\n",
       "3           317  156     5  solving question       15\n",
       "4           335  114     2           concept      121\n",
       "..          ...  ...   ...               ...      ...\n",
       "338       32491  179     5  solving question        5\n",
       "339       32535    8     5  solving question        9\n",
       "340       32570  113     3  solving question        8\n",
       "341       32625  142     2           concept       16\n",
       "342       32736   82     3           concept       21\n",
       "\n",
       "[343 rows x 5 columns]"
      ]
     },
     "metadata": {},
     "output_type": "display_data"
    }
   ],
   "source": [
    "l_list = list(train[train['content_type_id'] == 1]['content_id'].unique())\n",
    "len(l_list)\n",
    "l_quant = []\n",
    "for l in l_list:\n",
    "    tmp_l = train[(train['content_id'] == l)]['content_id'].count()\n",
    "    l_quant.append(tmp_l)\n",
    "\n",
    "l_ex = pd.DataFrame({'lecture_id': l_list,'l_quant': l_quant})\n",
    "l_ex = l_ex.astype({'lecture_id': 'int16', 'l_quant': 'int32'})\n",
    "lectures = pd.merge(lectures, l_ex, how='inner')\n",
    "display(lectures)"
   ]
  },
  {
   "cell_type": "code",
   "execution_count": 291,
   "id": "db31eeeb",
   "metadata": {},
   "outputs": [
    {
     "data": {
      "text/plain": [
       "tag\n",
       "39     262\n",
       "161    173\n",
       "62     163\n",
       "27     159\n",
       "114    146\n",
       "Name: l_quant, dtype: int32"
      ]
     },
     "execution_count": 291,
     "metadata": {},
     "output_type": "execute_result"
    }
   ],
   "source": [
    "lectures.groupby('tag').sum()['l_quant'].sort_values(ascending=False).head()\n",
    "\n",
    "# группировка лекций по популярности и тегам"
   ]
  },
  {
   "cell_type": "markdown",
   "id": "72a50b54",
   "metadata": {},
   "source": [
    "Основыне выводы:\n",
    "\n",
    "- Лекции разделены по темам на 7 разделов, больше всего лекций в 5 разделе.\n",
    "- Леции бывают 4 типов: вступление, целеполагание, концептуальное изложение материала и решение задач.\n",
    "- Большинство лекций посвящены теории, немного меньше - решению задач. Доля остальных несущественна.\n",
    "- Лекции 6 и 1 связаны с теорией, 3 и 4 - практические задания."
   ]
  },
  {
   "cell_type": "markdown",
   "id": "1315cfc8",
   "metadata": {},
   "source": [
    "# 3. Исследуем датафрейм questions"
   ]
  },
  {
   "cell_type": "code",
   "execution_count": 295,
   "id": "66651cc8",
   "metadata": {},
   "outputs": [
    {
     "data": {
      "text/plain": [
       "13523"
      ]
     },
     "execution_count": 295,
     "metadata": {},
     "output_type": "execute_result"
    }
   ],
   "source": [
    "questions['question_id'].nunique()\n",
    "\n",
    "# Всего в списке 13523 уникальных вопросов"
   ]
  },
  {
   "cell_type": "code",
   "execution_count": 297,
   "id": "f2e4e260",
   "metadata": {},
   "outputs": [
    {
     "data": {
      "text/plain": [
       "8                 738\n",
       "73                617\n",
       "53                523\n",
       "1                 413\n",
       "96                373\n",
       "                 ... \n",
       "157 144 81          1\n",
       "157 144 38          1\n",
       "106 169 162 81      1\n",
       "157 169 162 81      1\n",
       "157 169 92          1\n",
       "Name: tags, Length: 1519, dtype: int64"
      ]
     },
     "execution_count": 297,
     "metadata": {},
     "output_type": "execute_result"
    }
   ],
   "source": [
    "questions.tags.value_counts()\n",
    "\n",
    "# В списке 1519 вариантов комбинации вопросов по тегам"
   ]
  },
  {
   "cell_type": "code",
   "execution_count": 298,
   "id": "d1275077",
   "metadata": {},
   "outputs": [
    {
     "data": {
      "text/plain": [
       "count     13522\n",
       "unique     1519\n",
       "top           8\n",
       "freq        738\n",
       "Name: tags, dtype: object"
      ]
     },
     "execution_count": 298,
     "metadata": {},
     "output_type": "execute_result"
    }
   ],
   "source": [
    "questions['question_id'].groupby(questions['bundle_id']).count().max()\n",
    "questions['part'].value_counts(normalize=True)\n",
    "questions['tags'].describe()\n",
    "\n",
    "# Часть вопросов объединены по bundle_id в блоки до 5 вопросов"
   ]
  },
  {
   "cell_type": "code",
   "execution_count": 302,
   "id": "c44fb651",
   "metadata": {},
   "outputs": [
    {
     "data": {
      "text/html": [
       "<div>\n",
       "<style scoped>\n",
       "    .dataframe tbody tr th:only-of-type {\n",
       "        vertical-align: middle;\n",
       "    }\n",
       "\n",
       "    .dataframe tbody tr th {\n",
       "        vertical-align: top;\n",
       "    }\n",
       "\n",
       "    .dataframe thead th {\n",
       "        text-align: right;\n",
       "    }\n",
       "</style>\n",
       "<table border=\"1\" class=\"dataframe\">\n",
       "  <thead>\n",
       "    <tr style=\"text-align: right;\">\n",
       "      <th></th>\n",
       "      <th>question_id</th>\n",
       "      <th>bundle_id</th>\n",
       "      <th>part</th>\n",
       "      <th>q_quant</th>\n",
       "      <th>correct_quant</th>\n",
       "      <th>correct_percent</th>\n",
       "      <th>quant</th>\n",
       "      <th>cor_quant</th>\n",
       "    </tr>\n",
       "  </thead>\n",
       "  <tbody>\n",
       "    <tr>\n",
       "      <th>count</th>\n",
       "      <td>12438.000000</td>\n",
       "      <td>12438.000000</td>\n",
       "      <td>12438.000000</td>\n",
       "      <td>12438.000000</td>\n",
       "      <td>12438.000000</td>\n",
       "      <td>12438.000000</td>\n",
       "      <td>12438.000000</td>\n",
       "      <td>12438.000000</td>\n",
       "    </tr>\n",
       "    <tr>\n",
       "      <th>mean</th>\n",
       "      <td>6526.108619</td>\n",
       "      <td>6525.631372</td>\n",
       "      <td>4.327947</td>\n",
       "      <td>15.780994</td>\n",
       "      <td>10.697138</td>\n",
       "      <td>0.726369</td>\n",
       "      <td>15.780994</td>\n",
       "      <td>10.697138</td>\n",
       "    </tr>\n",
       "    <tr>\n",
       "      <th>std</th>\n",
       "      <td>3780.433493</td>\n",
       "      <td>3780.398476</td>\n",
       "      <td>1.619991</td>\n",
       "      <td>22.340378</td>\n",
       "      <td>13.009018</td>\n",
       "      <td>0.244190</td>\n",
       "      <td>22.340378</td>\n",
       "      <td>13.009018</td>\n",
       "    </tr>\n",
       "    <tr>\n",
       "      <th>min</th>\n",
       "      <td>0.000000</td>\n",
       "      <td>0.000000</td>\n",
       "      <td>1.000000</td>\n",
       "      <td>1.000000</td>\n",
       "      <td>0.000000</td>\n",
       "      <td>0.000000</td>\n",
       "      <td>1.000000</td>\n",
       "      <td>0.000000</td>\n",
       "    </tr>\n",
       "    <tr>\n",
       "      <th>25%</th>\n",
       "      <td>3269.250000</td>\n",
       "      <td>3267.750000</td>\n",
       "      <td>3.000000</td>\n",
       "      <td>5.000000</td>\n",
       "      <td>3.000000</td>\n",
       "      <td>0.583333</td>\n",
       "      <td>5.000000</td>\n",
       "      <td>3.000000</td>\n",
       "    </tr>\n",
       "    <tr>\n",
       "      <th>50%</th>\n",
       "      <td>6523.500000</td>\n",
       "      <td>6521.000000</td>\n",
       "      <td>5.000000</td>\n",
       "      <td>10.000000</td>\n",
       "      <td>7.000000</td>\n",
       "      <td>0.750000</td>\n",
       "      <td>10.000000</td>\n",
       "      <td>7.000000</td>\n",
       "    </tr>\n",
       "    <tr>\n",
       "      <th>75%</th>\n",
       "      <td>9748.750000</td>\n",
       "      <td>9748.750000</td>\n",
       "      <td>5.000000</td>\n",
       "      <td>19.000000</td>\n",
       "      <td>14.000000</td>\n",
       "      <td>0.933333</td>\n",
       "      <td>19.000000</td>\n",
       "      <td>14.000000</td>\n",
       "    </tr>\n",
       "    <tr>\n",
       "      <th>max</th>\n",
       "      <td>13522.000000</td>\n",
       "      <td>13522.000000</td>\n",
       "      <td>7.000000</td>\n",
       "      <td>379.000000</td>\n",
       "      <td>268.000000</td>\n",
       "      <td>1.000000</td>\n",
       "      <td>379.000000</td>\n",
       "      <td>268.000000</td>\n",
       "    </tr>\n",
       "  </tbody>\n",
       "</table>\n",
       "</div>"
      ],
      "text/plain": [
       "        question_id     bundle_id          part       q_quant  correct_quant  \\\n",
       "count  12438.000000  12438.000000  12438.000000  12438.000000   12438.000000   \n",
       "mean    6526.108619   6525.631372      4.327947     15.780994      10.697138   \n",
       "std     3780.433493   3780.398476      1.619991     22.340378      13.009018   \n",
       "min        0.000000      0.000000      1.000000      1.000000       0.000000   \n",
       "25%     3269.250000   3267.750000      3.000000      5.000000       3.000000   \n",
       "50%     6523.500000   6521.000000      5.000000     10.000000       7.000000   \n",
       "75%     9748.750000   9748.750000      5.000000     19.000000      14.000000   \n",
       "max    13522.000000  13522.000000      7.000000    379.000000     268.000000   \n",
       "\n",
       "       correct_percent         quant     cor_quant  \n",
       "count     12438.000000  12438.000000  12438.000000  \n",
       "mean          0.726369     15.780994     10.697138  \n",
       "std           0.244190     22.340378     13.009018  \n",
       "min           0.000000      1.000000      0.000000  \n",
       "25%           0.583333      5.000000      3.000000  \n",
       "50%           0.750000     10.000000      7.000000  \n",
       "75%           0.933333     19.000000     14.000000  \n",
       "max           1.000000    379.000000    268.000000  "
      ]
     },
     "execution_count": 302,
     "metadata": {},
     "output_type": "execute_result"
    }
   ],
   "source": [
    "df = train.loc[(train.content_type_id == 0), ['content_id', 'answered_correctly']]\n",
    "q_list = list(df['content_id'].unique())\n",
    "len(q_list)\n",
    "quant = []\n",
    "cor_quant = []\n",
    "for q in q_list:\n",
    "    tmp = df[df['content_id'] == q]['answered_correctly'].count()\n",
    "    tmp1 = df[df['content_id'] == q]['answered_correctly'].sum()\n",
    "    quant.append(tmp)\n",
    "    cor_quant.append(tmp1)\n",
    "\n",
    "q_ex = pd.DataFrame({'question_id': q_list,'quant': quant,'cor_quant': cor_quant})\n",
    "q_ex = q_ex.astype({'question_id': 'int16', 'quant': 'int32', 'cor_quant': 'int32'})\n",
    "\n",
    "questions = questions.drop('correct_answer', axis=1)\n",
    "questions = pd.merge(questions, q_ex, how='inner')\n",
    "questions['correct_percent'] = questions['cor_quant'] / questions['quant']\n",
    "questions.describe()"
   ]
  },
  {
   "cell_type": "markdown",
   "id": "848b525c",
   "metadata": {},
   "source": [
    "Основыне выводы:\n",
    "- Всего в списке 13523 уникальных вопросов.\n",
    "- В списке 1519 вариантов комбинации вопросов по тегам.\n",
    "- Часть вопросов объединены по bundle_id в блоки до 5 вопросов.\n",
    "- Пятый раздел включает наибольшее число материалов."
   ]
  },
  {
   "cell_type": "code",
   "execution_count": null,
   "id": "5ae5d6bf",
   "metadata": {},
   "outputs": [],
   "source": []
  }
 ],
 "metadata": {
  "kernelspec": {
   "display_name": "Python 3 (ipykernel)",
   "language": "python",
   "name": "python3"
  },
  "language_info": {
   "codemirror_mode": {
    "name": "ipython",
    "version": 3
   },
   "file_extension": ".py",
   "mimetype": "text/x-python",
   "name": "python",
   "nbconvert_exporter": "python",
   "pygments_lexer": "ipython3",
   "version": "3.9.12"
  }
 },
 "nbformat": 4,
 "nbformat_minor": 5
}
